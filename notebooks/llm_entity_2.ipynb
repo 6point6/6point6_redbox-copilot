{
 "cells": [
  {
   "cell_type": "code",
   "execution_count": null,
   "metadata": {},
   "outputs": [],
   "source": [
    "from datetime import date\n",
    "from typing import List\n",
    "\n",
    "import dotenv\n",
    "import marvin\n",
    "import spacy\n",
    "from langchain.chains import create_extraction_chain\n",
    "from langchain.chat_models import ChatAnthropic\n",
    "from langchain.embeddings import SentenceTransformerEmbeddings\n",
    "from langchain.output_parsers import CommaSeparatedListOutputParser\n",
    "from langchain.prompts import PromptTemplate\n",
    "from langchain.schema import HumanMessage, SystemMessage\n",
    "from langchain.vectorstores import Chroma\n",
    "from langchain_experimental.llms.anthropic_functions import AnthropicFunctions\n",
    "from pydantic import BaseModel, Field\n",
    "from transformers import AutoModelForTokenClassification, AutoTokenizer, pipeline\n",
    "\n",
    "from redbox.llm.llm_base import LLMHandler\n",
    "from redbox.models.file import get_entity_metadata\n",
    "\n",
    "ENV = dotenv.dotenv_values(\"../.env\")"
   ]
  },
  {
   "cell_type": "code",
   "execution_count": null,
   "metadata": {},
   "outputs": [],
   "source": [
    "sys_prompt = SystemMessage(content=\"Help answer questions from user\")\n",
    "llm = ChatAnthropic(anthropic_api_key=ENV[\"ANTHROPIC_API_KEY\"])\n",
    "\n",
    "handler = LLMHandler(\n",
    "    llm=llm,\n",
    "    user_uuid=\"foo\",\n",
    "    vector_store=Chroma(\n",
    "        embedding_function=SentenceTransformerEmbeddings(),\n",
    "        persist_directory=\"../data/db/\",\n",
    "    ),\n",
    ")"
   ]
  },
  {
   "cell_type": "code",
   "execution_count": null,
   "metadata": {},
   "outputs": [],
   "source": [
    "# llm = ChatAnthropic(anthropic_api_key=ENV[\"ANTHROPIC_API_KEY\"])\n",
    "\n",
    "raw_text_1 = \"\"\"\n",
    " June 10, 2023 FROM - Dr. Aiden Maxwell, Chief Advisor on Artificial Intelligence\n",
    "ACTION\n",
    "Enhancement of Digital Ethics Framework\n",
    " SUMMARY\n",
    "1. To ensure ethical and responsible usage of digital technologies, it is necessary to revise our current Digital Ethics Framework. The enhancements will address new challenges and complexities, including those introduced by recent advancements in Artificial Intelligence (AI). The revised framework aims to provide comprehensive guidelines on data privacy, algorithmic fairness, user consent, and transparency, ensuring our digital ethics are up to date with the evolving digital landscape.\n",
    "RECOMMENDATION\n",
    "2. We recommend the enhancement of the current Digital Ethics Framework. Does the Minister approve the revision process to accommodate advancements in digital technologies?\n",
    "TIMING\n",
    "3. A decision by July 1, 2023, would be optimal. Delay in updating the framework might lead to ethical concerns due to the increasing use and influence of AI and other digital technologies.\n",
    "BACKGROUND\n",
    "4. In an era of rapid digital transformation, our ethical guidelines must keep pace with the evolution of technology.\n",
    "5. ADDRESSING NEW CHALLENGES: The current Digital Ethics Framework needs enhancement to address new challenges brought by the advancements in digital technologies, including AI.\n",
    "6. DATA PRIVACY: With AI systems heavily reliant on data, the updated framework must provide clear guidelines on data privacy and protection.\n",
    "7. ALGORITHMIC FAIRNESS: The framework will include guidelines for ensuring fairness and eliminating bias in automated decisions made by AI systems.\n",
    "8. USER CONSENT AND TRANSPARENCY: The new framework will focus on obtaining informed user consent and promoting transparency in the use of digital technologies.\n",
    "9. The enhancement of the Digital Ethics Framework is a significant step towards ensuring ethical and responsible use of evolving digital technologies.\n",
    "CLEARANCE LIST\n",
    "\n",
    "      Team\n",
    "Clearance necessary?\n",
    "Named lead who has cleared\n",
    "SCS\n",
    "Yes\n",
    "Sir Winston Radcliffe\n",
    "Perm Sec\n",
    "No\n",
    "Second Perm Sec\n",
    "No\n",
    "Communications (inc named Press Officer)\n",
    "Yes\n",
    "Lara Chambers\n",
    "Finance/Fiscal Events\n",
    "No\n",
    "HR\n",
    "No\n",
    "Legal\n",
    "No\n",
    "Parliamentary Unit\n",
    "No\n",
    "Devolution\n",
    "No\n",
    "Analysis\n",
    "No\n",
    "HMTC\n",
    "Yes\n",
    "Isabella Sinclair\n",
    "Other\n",
    "Yes\n",
    "Department for Digital, Culture, Media, and Sport, Office for Artificial Intelligence, Home Office\n",
    "             \n",
    "             \n",
    "\"\"\""
   ]
  },
  {
   "cell_type": "code",
   "execution_count": null,
   "metadata": {},
   "outputs": [],
   "source": [
    "raw_text_2 = \"\"\"\n",
    " SENSITIVITY MARKING: OFFICIAL SENSITIVE\n",
    "Ministerial AI Meeting\n",
    "Tuesday 5 June 2023 1030-1130 Conference Room D\n",
    "Attendees:\n",
    "- Sarah Friar (DSIT Director of AI)\n",
    "- Marie Clark (DSIT Head of AI Policy) - Hamza Khan (DSIT AI Researcher) - Alex Burghart (Cabinet Office)\n",
    "Meeting Notes:\n",
    "1. Sarah Friar outlined recent studies showing biases encoded in some recruitment AI tools, leading to discrimination in hiring.\n",
    "2. Hamza Khan presented technical options for auditing algorithms and datasets to identify unfair biases. He stressed that biases can be difficult to detect without proactive audits.\n",
    "3. Marie Clark suggested policy options such as mandatory bias auditing for vendors, restrictions on use of certain dataset types, and enhanced transparency rules.\n",
    "4. Alex Burghart emphasized the need to balance innovation and regulation, proposing sandboxes for controlled testing before full deployment in recruitment.\n",
    "5. All agreed developer training and diverse teams will be critical to avoiding biases when designing recruitment AI.\n",
    "Actions:\n",
    "- DSIT to consult further with academics on auditing methodologies.\n",
    "- Cabinet Office to meet with recruitment AI vendors to discuss a code of ethics.\n",
    "\n",
    "\"\"\""
   ]
  },
  {
   "cell_type": "code",
   "execution_count": null,
   "metadata": {},
   "outputs": [],
   "source": [
    "raw_text_3 = \"\"\"\n",
    " From: Tom Stewart <Tom.stewart@cabinetoffice.gov.uk>\n",
    "Sent: Tuesday, 6 June 2023 11:02 AM\n",
    "To: Joel Edmonds <Joel.edmonds@cabinetoffice.gov.uk>; Roseline Hawks <Roseline.hawks@cabinetoffice.gov.uk>; Alex Burghart <alex.burghart@cabinetoffice.gov.uk>\n",
    "Subject: AI Ethics Framework\n",
    "Hi all,\n",
    "As we advance our AI strategy, I think it's crucial we develop a clear ethical framework to guide both public and private sector usage. This will be essential for maintaining public trust.\n",
    "I suggest we put together a set of core principles around transparency, accountability, bias mitigation, privacy etc. We should also propose specific oversight mechanisms and compliance requirements.\n",
    "Keen to get your thoughts ahead of discussing with ministers next week. What do you see as the priorities?\n",
    "Best, Tom\n",
    "From: Joel Edmonds <Joel.edmonds@cabinetoffice.gov.uk>\n",
    "Sent: Tuesday, 6 June 2023 12:34 PM\n",
    "To: Tom Stewart <Tom.stewart@cabinetoffice.gov.uk>\n",
    "Cc: Roseline Hawks <Roseline.hawks@cabinetoffice.gov.uk>; Alex Burghart <alex.burghart@cabinetoffice.gov.uk>\n",
    "Subject: Re: AI Ethics Framework Hi Tom,\n",
    "Fully agree on the need for ethical guidelines. My view is we need to strike a balance between encouraging innovation and protecting rights. Areas I'd highlight:\n",
    "- Transparency of AI systems, how they operate and impact decisions. - Mechanisms for human oversight and control.\n",
    "- Rules to prevent encoded bias and discrimination.\n",
    "- Strict data protection standards.\n",
    "I think independent auditing will be needed to provide assurance. But open to other perspectives on oversight.\n",
    "Joel\n",
    "\n",
    " From: Roseline Hawks <Roseline.hawks@cabinetoffice.gov.uk>\n",
    "Sent: Tuesday, 6 June 2023 3:01 PM\n",
    "To: Tom Stewart <Tom.stewart@cabinetoffice.gov.uk>\n",
    "Cc: Joel Edmonds <Joel.edmonds@cabinetoffice.gov.uk>; Alex Burghart <alex.burghart@cabinetoffice.gov.uk>\n",
    "Subject: Re: AI Ethics Framework\n",
    "Hi both,\n",
    "In addition to what Joel outlined, I would suggest:\n",
    "- Requiring fairness assessments before AI deployment, especially in public sector. - Giving citizens clear rights to contest AI-informed decisions.\n",
    "- Mandating evaluations of societal impact - not just technical performance.\n",
    "This will help embed ethical thinking from the outset. Let me know your thoughts.\n",
    "Best, Roseline\n",
    "\n",
    "\"\"\""
   ]
  },
  {
   "cell_type": "markdown",
   "metadata": {},
   "source": [
    "# Marvin\n",
    "\n",
    "* Does the job\n",
    "* Slowly\n",
    "* Requires small chunks for getting lists of stuff or thinks there's been \"no function call\""
   ]
  },
  {
   "cell_type": "code",
   "execution_count": null,
   "metadata": {},
   "outputs": [],
   "source": [
    "# marvin.settings.llm_model = \"anthropic/claude-2\"\n",
    "# marvin.settings.llm_model\n",
    "# marvin.settings.llm_temperature\t= 0\n",
    "# marvin.settings.llm_temperature"
   ]
  },
  {
   "cell_type": "code",
   "execution_count": null,
   "metadata": {},
   "outputs": [],
   "source": [
    "get_entity_metadata(raw_text_1)"
   ]
  },
  {
   "cell_type": "code",
   "execution_count": null,
   "metadata": {},
   "outputs": [],
   "source": [
    "@marvin.ai_model(llm_temperature=0, llm_model=\"anthropic/claude-2\")\n",
    "class Action(BaseModel):\n",
    "    date: date\n",
    "    action: str = Field(description=\"The item to be actioned\")\n",
    "\n",
    "\n",
    "@marvin.ai_model()\n",
    "class ChunkMetadata(BaseModel):\n",
    "    names: List[str] = Field(\n",
    "        description=\"A complete list of all people: the first name, last name and titles of important people. No job titles.\"\n",
    "    )\n",
    "    organisation_names: List[str] = Field(\n",
    "        description=\"A complete list of all important organisations, institutions, and government departments\"\n",
    "    )\n",
    "    actions: List[str] = Field(\n",
    "        description=\"A complete list of all important actions with deadlines, in the format <date>, <action>\"\n",
    "    )\n",
    "\n",
    "\n",
    "raw_1 = ChunkMetadata(raw_text_1)\n",
    "raw_1.actions = [Action(act) for act in raw_1.actions]\n",
    "raw_1"
   ]
  },
  {
   "cell_type": "code",
   "execution_count": null,
   "metadata": {},
   "outputs": [],
   "source": [
    "Action(\n",
    "    \"2023-06-05, Cabinet Office to meet with recruitment AI vendors to discuss a code of ethics.\"\n",
    ")"
   ]
  },
  {
   "cell_type": "code",
   "execution_count": null,
   "metadata": {},
   "outputs": [],
   "source": [
    "DocumentMetadata(raw_text_2).model_dump()"
   ]
  },
  {
   "cell_type": "code",
   "execution_count": null,
   "metadata": {},
   "outputs": [],
   "source": [
    "out = []\n",
    "for i in range(-(len(raw_text_2) // -1000)):\n",
    "    out.append(DocumentMetadata(raw_text_3[i * 1000 : (i + 1) * 1000]))"
   ]
  },
  {
   "cell_type": "code",
   "execution_count": null,
   "metadata": {},
   "outputs": [],
   "source": [
    "print([i.model_dump() for i in out])"
   ]
  },
  {
   "cell_type": "code",
   "execution_count": null,
   "metadata": {},
   "outputs": [],
   "source": [
    "final = {}\n",
    "for i, doc in enumerate(out):\n",
    "    doc_dict = doc.model_dump()\n",
    "    if i == 0:\n",
    "        final = doc_dict\n",
    "    else:\n",
    "        for k, v in doc_dict.items():\n",
    "            final[k] += v\n",
    "\n",
    "for k, v in final.items():\n",
    "    final[k] = list(set(v))\n",
    "\n",
    "final"
   ]
  },
  {
   "cell_type": "code",
   "execution_count": null,
   "metadata": {},
   "outputs": [],
   "source": [
    "out[0].model_dump().update(out[1].model_dump())\n",
    "out[0]\n",
    "out"
   ]
  },
  {
   "cell_type": "markdown",
   "metadata": {},
   "source": [
    "## Summary to Marvin\n",
    "\n",
    "Combo it up to speed things up"
   ]
  },
  {
   "cell_type": "code",
   "execution_count": null,
   "metadata": {},
   "outputs": [],
   "source": [
    "@marvin.ai_model(llm_temperature=0, llm_model=\"anthropic/claude-2\")\n",
    "class Action(BaseModel):\n",
    "    date: date\n",
    "    action: str = Field(description=\"The item to be actioned\")\n",
    "\n",
    "\n",
    "@marvin.ai_model(llm_temperature=0, llm_model=\"anthropic/claude-2\")\n",
    "class Person(BaseModel):\n",
    "    person_name: str = Field(description=\"The full name of the person. No job titles.\")"
   ]
  },
  {
   "cell_type": "code",
   "execution_count": null,
   "metadata": {},
   "outputs": [],
   "source": [
    "llm = ChatAnthropic(anthropic_api_key=ENV[\"ANTHROPIC_API_KEY\"])\n",
    "\n",
    "_key_people_template = \"\"\"\n",
    "Here is some text, containted in <text> tags:\n",
    "\n",
    "<text> {raw_text} </text>\n",
    "\n",
    "Who are the important people in this document?\n",
    "\n",
    "List of people:\n",
    "\"\"\"\n",
    "\n",
    "KEY_PEOPLE_PROMPT = PromptTemplate.from_template(_key_people_template)\n",
    "\n",
    "to_send = HumanMessage(\n",
    "    content=KEY_PEOPLE_PROMPT.format_prompt(raw_text=raw_text_1).to_string()\n",
    ")\n",
    "\n",
    "result = llm([to_send])\n",
    "\n",
    "result.content"
   ]
  },
  {
   "cell_type": "code",
   "execution_count": null,
   "metadata": {},
   "outputs": [],
   "source": [
    "result.content"
   ]
  },
  {
   "cell_type": "code",
   "execution_count": null,
   "metadata": {},
   "outputs": [],
   "source": [
    "people = []\n",
    "for i in result.content.replace(\"\\n\\n\", \"\\n\").split(\"\\n\"):\n",
    "    if i[0] == \"-\":\n",
    "        try:\n",
    "            people.append(Person(i))\n",
    "        except ValueError:\n",
    "            pass"
   ]
  },
  {
   "cell_type": "code",
   "execution_count": null,
   "metadata": {},
   "outputs": [],
   "source": [
    "people"
   ]
  },
  {
   "cell_type": "code",
   "execution_count": null,
   "metadata": {},
   "outputs": [],
   "source": [
    "Person(\"- Lara Chambers, Communications clearance\")"
   ]
  },
  {
   "cell_type": "markdown",
   "metadata": {},
   "source": [
    "# Anthropic functions\n",
    "\n",
    "* Unreliable and inaccurate\n",
    "* Often errors"
   ]
  },
  {
   "cell_type": "code",
   "execution_count": null,
   "metadata": {},
   "outputs": [],
   "source": [
    "model = AnthropicFunctions(model=\"claude-2\")"
   ]
  },
  {
   "cell_type": "code",
   "execution_count": null,
   "metadata": {},
   "outputs": [],
   "source": [
    "schema = {\n",
    "    \"properties\": {\n",
    "        \"names\": {\n",
    "            \"type\": \"list\",\n",
    "            \"description\": \"A complete list of all people: the first name, last name and titles of important people. No job titles.\",\n",
    "        },\n",
    "        \"institutions\": {\n",
    "            \"type\": \"list\",\n",
    "            \"description\": \"A complete list of all important institutions, organsations and government departments\",\n",
    "        },\n",
    "    }\n",
    "}\n",
    "\n",
    "chain = create_extraction_chain(schema, model)\n",
    "\n",
    "chain.run(raw_text_1[:500])"
   ]
  },
  {
   "cell_type": "markdown",
   "metadata": {},
   "source": [
    "# BERT"
   ]
  },
  {
   "cell_type": "code",
   "execution_count": null,
   "metadata": {},
   "outputs": [],
   "source": [
    "tokenizer = AutoTokenizer.from_pretrained(\"dslim/bert-large-NER\")\n",
    "model = AutoModelForTokenClassification.from_pretrained(\"dslim/bert-large-NER\")\n",
    "\n",
    "nlp = pipeline(\"ner\", model=model, tokenizer=tokenizer)\n",
    "example = \"My name is Wolfgang and I live in Berlin\"\n",
    "\n",
    "ner_results = nlp(example)\n",
    "print(ner_results)"
   ]
  },
  {
   "cell_type": "code",
   "execution_count": null,
   "metadata": {},
   "outputs": [],
   "source": [
    "ner_results = nlp(raw_text_1)"
   ]
  },
  {
   "cell_type": "code",
   "execution_count": null,
   "metadata": {},
   "outputs": [],
   "source": [
    "[e for e in ner_results if e[\"entity\"][-3:] == \"PER\"]"
   ]
  },
  {
   "cell_type": "code",
   "execution_count": null,
   "metadata": {},
   "outputs": [],
   "source": [
    "raw_text_1[2108:2112]"
   ]
  },
  {
   "cell_type": "markdown",
   "metadata": {},
   "source": [
    "# Spacy"
   ]
  },
  {
   "cell_type": "code",
   "execution_count": null,
   "metadata": {},
   "outputs": [],
   "source": [
    "nlp = spacy.load(\"en_core_web_lg\")\n",
    "\n",
    "doc1 = nlp(raw_text_1)\n",
    "\n",
    "for ent in doc1.ents:\n",
    "    if ent.label_ in (\"PERSON\"):\n",
    "        print(ent.text, ent.start_char, ent.end_char, ent.label_)\n",
    "\n",
    "print(\"---\")\n",
    "\n",
    "for ent in doc1.ents:\n",
    "    if ent.label_ in (\"ORG\"):\n",
    "        print(ent.text, ent.start_char, ent.end_char, ent.label_)"
   ]
  },
  {
   "cell_type": "code",
   "execution_count": null,
   "metadata": {},
   "outputs": [],
   "source": [
    "doc2 = nlp(raw_text_2)\n",
    "\n",
    "for ent in doc2.ents:\n",
    "    if ent.label_ in (\"PERSON\"):\n",
    "        print(ent.text, ent.start_char, ent.end_char, ent.label_)\n",
    "\n",
    "print(\"---\")\n",
    "\n",
    "for ent in doc2.ents:\n",
    "    if ent.label_ in (\"ORG\"):\n",
    "        print(ent.text, ent.start_char, ent.end_char, ent.label_)"
   ]
  },
  {
   "cell_type": "code",
   "execution_count": null,
   "metadata": {},
   "outputs": [],
   "source": [
    "doc3 = nlp(raw_text_3)\n",
    "\n",
    "for ent in doc3.ents:\n",
    "    if ent.label_ in (\"PERSON\"):\n",
    "        print(ent.text, ent.start_char, ent.end_char, ent.label_)\n",
    "\n",
    "print(\"---\")\n",
    "\n",
    "for ent in doc3.ents:\n",
    "    if ent.label_ in (\"ORG\"):\n",
    "        print(ent.text, ent.start_char, ent.end_char, ent.label_)"
   ]
  },
  {
   "cell_type": "code",
   "execution_count": null,
   "metadata": {},
   "outputs": [],
   "source": [
    "llm = ChatAnthropic(anthropic_api_key=ENV[\"ANTHROPIC_API_KEY\"])\n",
    "\n",
    "raw_text = \"Put text here -- my birthday is on 25/1/89\"\n",
    "\n",
    "_key_date_template = \"\"\"\n",
    "Here is some text, containted in <text> tags:\n",
    "\n",
    "<text> {raw_text} </text>\n",
    "\n",
    "What are the important dates in this document?\n",
    "\n",
    "List of dates:\n",
    "\"\"\"\n",
    "\n",
    "KEY_PEOPLE_PROMPT = PromptTemplate.from_template(_key_date_template)\n",
    "\n",
    "to_send = HumanMessage(\n",
    "    content=KEY_PEOPLE_PROMPT.format_prompt(raw_text=raw_text).to_string()\n",
    ")\n",
    "\n",
    "result = llm([to_send])\n",
    "\n",
    "result.content"
   ]
  },
  {
   "cell_type": "code",
   "execution_count": null,
   "metadata": {},
   "outputs": [],
   "source": [
    "output_parser = CommaSeparatedListOutputParser()\n",
    "format_instructions = output_parser.get_format_instructions()\n",
    "format_instructions"
   ]
  },
  {
   "cell_type": "code",
   "execution_count": null,
   "metadata": {},
   "outputs": [],
   "source": [
    "raw_text = '\"Lockdown point\" -- when the \"principle\" leave the building\\n\\nWhat goes into your Red Box content decision making process? (emphasis on information density for a briefing, deadline oriented, etc.)\\n\\nRAG\\n\\nJudgement call based on time\\n\\nIs it IMPORTANT\\nWas it important before\\nWas the prime minister incolved, for example\\nPEOPLE\\nCOPY lists!! \"Cast list\" -- office vs private\\n\\n\\nCOMMITMENTS from before\\nMEDIA\\n\\nIs it URGENT\\nTIME\\nWHEN was it last talked about\\n\\nWhat do you want to show ministers in their red box?\\n\\nx\\n\\nWhat kind of tone and persona do you expect to best fit your Minister? (idiosyncrasies)'\n",
    "# to_send = HumanMessage(content=raw_text)"
   ]
  },
  {
   "cell_type": "code",
   "execution_count": null,
   "metadata": {},
   "outputs": [],
   "source": [
    "# sys_prompt = SystemMessage(content=\"You are\")\n",
    "prompt = PromptTemplate(\n",
    "    template=\"Here is some text, containted in <text> tags: \\n\\n <text> {raw_text} </text> \\n\\n Using only the information within the <text> tag generate a comma separated list of all the {entity} you find. If you cannot then return the word None.\",\n",
    "    input_variables=[\"entity\", \"raw_text\"],\n",
    ")\n",
    "to_send = HumanMessage(\n",
    "    content=prompt.format_prompt(entity=\"nouns\", raw_text=raw_text).to_string()\n",
    ")\n",
    "_output = handler.llm([to_send])\n",
    "output_parser.parse(_output.content)"
   ]
  },
  {
   "cell_type": "code",
   "execution_count": null,
   "metadata": {},
   "outputs": [],
   "source": [
    "nlp = spacy.load(\"en_core_web_lg\")\n",
    "doc = nlp(\n",
    "    \"\"\"\n",
    " June 10, 2023 FROM - Dr. Aiden Maxwell, Chief Advisor on Artificial Intelligence\n",
    "ACTION\n",
    "Enhancement of Digital Ethics Framework\n",
    " SUMMARY\n",
    "1. To ensure ethical and responsible usage of digital technologies, it is necessary to revise our current Digital Ethics Framework. The enhancements will address new challenges and complexities, including those introduced by recent advancements in Artificial Intelligence (AI). The revised framework aims to provide comprehensive guidelines on data privacy, algorithmic fairness, user consent, and transparency, ensuring our digital ethics are up to date with the evolving digital landscape.\n",
    "RECOMMENDATION\n",
    "2. We recommend the enhancement of the current Digital Ethics Framework. Does the Minister approve the revision process to accommodate advancements in digital technologies?\n",
    "TIMING\n",
    "3. A decision by July 1, 2023, would be optimal. Delay in updating the framework might lead to ethical concerns due to the increasing use and influence of AI and other digital technologies.\n",
    "BACKGROUND\n",
    "4. In an era of rapid digital transformation, our ethical guidelines must keep pace with the evolution of technology.\n",
    "5. ADDRESSING NEW CHALLENGES: The current Digital Ethics Framework needs enhancement to address new challenges brought by the advancements in digital technologies, including AI.\n",
    "6. DATA PRIVACY: With AI systems heavily reliant on data, the updated framework must provide clear guidelines on data privacy and protection.\n",
    "7. ALGORITHMIC FAIRNESS: The framework will include guidelines for ensuring fairness and eliminating bias in automated decisions made by AI systems.\n",
    "8. USER CONSENT AND TRANSPARENCY: The new framework will focus on obtaining informed user consent and promoting transparency in the use of digital technologies.\n",
    "9. The enhancement of the Digital Ethics Framework is a significant step towards ensuring ethical and responsible use of evolving digital technologies.\n",
    "CLEARANCE LIST\n",
    "\n",
    "      Team\n",
    "Clearance necessary?\n",
    "Named lead who has cleared\n",
    "SCS\n",
    "Yes\n",
    "Sir Winston Radcliffe\n",
    "Perm Sec\n",
    "No\n",
    "Second Perm Sec\n",
    "No\n",
    "Communications (inc named Press Officer)\n",
    "Yes\n",
    "Lara Chambers\n",
    "Finance/Fiscal Events\n",
    "No\n",
    "HR\n",
    "No\n",
    "Legal\n",
    "No\n",
    "Parliamentary Unit\n",
    "No\n",
    "Devolution\n",
    "No\n",
    "Analysis\n",
    "No\n",
    "HMTC\n",
    "Yes\n",
    "Isabella Sinclair\n",
    "Other\n",
    "Yes\n",
    "Department for Digital, Culture, Media, and Sport, Office for Artificial Intelligence, Home Office\n",
    "             \n",
    "             \n",
    "\"\"\"\n",
    ")"
   ]
  },
  {
   "cell_type": "code",
   "execution_count": null,
   "metadata": {},
   "outputs": [],
   "source": [
    "for ent in doc.ents:\n",
    "    if ent.label_ in (\"PERSON\", \"ORG\", \"DATE\"):\n",
    "        print(ent.text, ent.label_)"
   ]
  },
  {
   "cell_type": "code",
   "execution_count": null,
   "metadata": {},
   "outputs": [],
   "source": [
    "for ent in doc_sm.ents:\n",
    "    if ent.label_ in (\"PERSON\", \"ORG\", \"DATE\"):\n",
    "        print(ent.text, ent.label_)"
   ]
  },
  {
   "cell_type": "code",
   "execution_count": null,
   "metadata": {},
   "outputs": [],
   "source": [
    "nlp_sm = spacy.load(\"en_core_web_sm\")\n",
    "doc_sm = nlp(\n",
    "    \"\"\"\n",
    " July 27, 2023 FROM - Dr. Aiden Maxwell, Chief Advisor on Artificial Intelligence\n",
    "ACTION\n",
    "Consideration and Approval of the Proposed Artificial Intelligence Regulatory Framework\n",
    "SUMMARY\n",
    "1. The proposed Artificial Intelligence (AI) Regulatory Framework intends to provide clear guidelines for AI development and use within our nation. The framework places emphasis on safety, transparency, fairness, and accountability, while supporting innovation. The pressing need for regulation arises from the rapid development and ubiquitous application of AI, from healthcare to finance, with concomitant ethical and security concerns. A structured legal and ethical approach will instil confidence in AI technologies among the public, and also ensure that AI advancements do not inadvertently harm societal structure and individuals’ rights.\n",
    "RECOMMENDATION\n",
    "2. We propose the adoption of the AI Regulatory Framework. Is the Minister prepared to approve this regulatory framework?\n",
    "TIMING\n",
    "3. A decision by August 30, 2023, is advisable. Delay in establishing this regulation could increase the risk of misuse of AI, perpetuate existing ethical concerns, and erode public trust in AI technologies.\n",
    "BACKGROUND\n",
    "4. The remarkable speed at which AI technology has advanced has brought about transformative changes across various sectors, offering untold benefits. However, it also poses new and unique challenges relating to privacy, security, bias, and accountability.\n",
    "5. NEED FOR REGULATION: AI technologies, left unchecked, can be intrusive, biased, and opaque, leading to societal and individual harm. The proposed framework aims to address these issues proactively.\n",
    "6. SAFETY AND TRANSPARENCY: The framework includes guidelines on safety standards for AI and requirements for transparency, with AI systems needing to provide an understandable explanation for their decisions.\n",
    "7. FAIRNESS AND ACCOUNTABILITY: The proposed regulation also stipulates measures to prevent biased decision-making and provides guidelines for accountability in cases where harm is caused by AI systems.\n",
    " \n",
    " 8. SUPPORTING INNOVATION: While regulating AI, it is essential to ensure that we do not stifle innovation. The proposed regulation takes a balanced approach, offering clarity and predictability for developers, and promoting innovative AI technologies.\n",
    "9. INTERNATIONAL COOPERATION: The regulation suggests cooperation with international partners to establish common standards and to handle cross-border AI issues.\n",
    "10.Therefore, the proposed framework is of paramount importance in creating a trustworthy environment for AI use while ensuring that the technology continues to thrive and provide benefits.\n",
    "CLEARANCE LIST\n",
    "     Team\n",
    "Clearance necessary?\n",
    "Named lead who has cleared\n",
    "SCS\n",
    "Mandatory\n",
    "Sir Winston Radcliffe\n",
    "Perm Sec\n",
    "No\n",
    "Second Perm Sec\n",
    "No\n",
    "Communications (inc named Press Officer)\n",
    "Yes\n",
    "Lara Chambers\n",
    "Finance/Fiscal Events\n",
    "No\n",
    "HR\n",
    "No\n",
    "Legal\n",
    "Yes\n",
    "Maxwell Hawthorne\n",
    "Parliamentary Unit\n",
    "No\n",
    "Devolution\n",
    "No\n",
    "Analysis\n",
    "No\n",
    "HMTC\n",
    "Yes\n",
    "Isabella Sinclair\n",
    "Other\n",
    "No\n",
    "             \n",
    "             \n",
    "\"\"\"\n",
    ")"
   ]
  },
  {
   "cell_type": "code",
   "execution_count": null,
   "metadata": {},
   "outputs": [],
   "source": [
    "for ent in doc.ents:\n",
    "    if ent.label_ in (\"PERSON\", \"ORG\", \"DATE\"):\n",
    "        print(ent.text, ent.label_)"
   ]
  },
  {
   "cell_type": "code",
   "execution_count": null,
   "metadata": {},
   "outputs": [],
   "source": [
    "# sys_prompt = SystemMessage(content=\"You are\")\n",
    "prompt = PromptTemplate(\n",
    "    template=\"Here is some text, containted in <text> tags: \\n\\n <text> {raw_text} </text> \\n\\n Using only the information within the <text> tag generate a comma separated list of all the {entity} you find. If you cannot then return the word None.\",\n",
    "    input_variables=[\"entity\", \"raw_text\"],\n",
    ")\n",
    "to_send = HumanMessage(\n",
    "    content=prompt.format_prompt(entity=\"people\", raw_text=raw_text).to_string()\n",
    ")\n",
    "_output = handler.llm([to_send])\n",
    "output_parser.parse(_output.content)"
   ]
  },
  {
   "cell_type": "code",
   "execution_count": null,
   "metadata": {},
   "outputs": [],
   "source": [
    "_output.content"
   ]
  },
  {
   "cell_type": "code",
   "execution_count": null,
   "metadata": {},
   "outputs": [],
   "source": [
    "_input = prompt.format(\n",
    "    entity_prompt=\"Return a list of verbs in the following text: \\n\\n\",\n",
    "    raw_text='\"Lockdown point\" -- when the \"principle\" leave the building\\n\\nWhat goes into your Red Box content decision making process? (emphasis on information density for a briefing, deadline oriented, etc.)\\n\\nRAG\\n\\nJudgement call based on time\\n\\nIs it IMPORTANT\\nWas it important before\\nWas the prime minister incolved, for example\\nPEOPLE\\nCOPY lists!! \"Cast list\" -- office vs private\\n\\n\\nCOMMITMENTS from before\\nMEDIA\\n\\nIs it URGENT\\nTIME\\nWHEN was it last talked about\\n\\nWhat do you want to show ministers in their red box?\\n\\nx\\n\\nWhat kind of tone and persona do you expect to best fit your Minister? (idiosyncrasies)',\n",
    ")"
   ]
  },
  {
   "cell_type": "code",
   "execution_count": null,
   "metadata": {},
   "outputs": [],
   "source": [
    "_input"
   ]
  },
  {
   "cell_type": "code",
   "execution_count": null,
   "metadata": {},
   "outputs": [],
   "source": []
  },
  {
   "cell_type": "code",
   "execution_count": null,
   "metadata": {},
   "outputs": [],
   "source": [
    "result = llm()"
   ]
  },
  {
   "cell_type": "code",
   "execution_count": null,
   "metadata": {},
   "outputs": [],
   "source": [
    "handler.entity_extraction(\n",
    "    user_entity=\"list of verbs in this text\",\n",
    "    raw_text='\"Lockdown point\" -- when the \"principle\" leave the building\\n\\nWhat goes into your Red Box content decision making process? (emphasis on information density for a briefing, deadline oriented, etc.)\\n\\nRAG\\n\\nJudgement call based on time\\n\\nIs it IMPORTANT\\nWas it important before\\nWas the prime minister incolved, for example\\nPEOPLE\\nCOPY lists!! \"Cast list\" -- office vs private\\n\\n\\nCOMMITMENTS from before\\nMEDIA\\n\\nIs it URGENT\\nTIME\\nWHEN was it last talked about\\n\\nWhat do you want to show ministers in their red box?\\n\\nx\\n\\nWhat kind of tone and persona do you expect to best fit your Minister? (idiosyncrasies)',\n",
    ")"
   ]
  },
  {
   "cell_type": "code",
   "execution_count": null,
   "metadata": {},
   "outputs": [],
   "source": [
    "resp = handler.chat_with_rag(user_question=\"What is the cabinet office?\")"
   ]
  },
  {
   "cell_type": "code",
   "execution_count": null,
   "metadata": {},
   "outputs": [],
   "source": [
    "for message in resp[\"chat_history\"]:\n",
    "    print(message.type, \" : \", message.content)"
   ]
  },
  {
   "cell_type": "code",
   "execution_count": null,
   "metadata": {},
   "outputs": [],
   "source": []
  }
 ],
 "metadata": {
  "language_info": {
   "codemirror_mode": {
    "name": "ipython",
    "version": 3
   },
   "file_extension": ".py",
   "mimetype": "text/x-python",
   "name": "python",
   "nbconvert_exporter": "python",
   "pygments_lexer": "ipython3",
   "version": "3.9.6"
  }
 },
 "nbformat": 4,
 "nbformat_minor": 2
}
