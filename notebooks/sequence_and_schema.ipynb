{
 "cells": [
  {
   "cell_type": "markdown",
   "metadata": {},
   "source": [
    "# Data sequence and schema diagrams\n"
   ]
  },
  {
   "cell_type": "markdown",
   "metadata": {},
   "source": [
    "## Data Sequences\n",
    "### File apis\n",
    "\n",
    "```mermaid\n",
    "---\n",
    "title: Data sequence - POST /upload\n",
    "---\n",
    "\n",
    "sequenceDiagram\n",
    "    Django->>S3: file key, content\n",
    "    Django->>Core: file key\n",
    "    Core->>Workers: file key\n",
    "    Core->>Elastic: file key\n",
    "    S3->>Workers: file content\n",
    "    Workers->>Elastic: chunk key, content\n",
    "```\n"
   ]
  },
  {
   "cell_type": "markdown",
   "metadata": {},
   "source": [
    "### Chat APIs\n",
    "\n",
    "\n",
    "```mermaid\n",
    "---\n",
    "title: Data sequence - POST /chat/vanilla\n",
    "---\n",
    "\n",
    "sequenceDiagram\n",
    "    Django->>Core: ChatHistory.messages[]\n",
    "    Core->>LLM API: ChatHistory.messages[]\n",
    "\n",
    "```\n"
   ]
  },
  {
   "cell_type": "markdown",
   "metadata": {},
   "source": [
    "```mermaid\n",
    "---\n",
    "title: Data sequence - POST /chat/rag\n",
    "---\n",
    "\n",
    "sequenceDiagram\n",
    "    Django->> Core: ChatHistory.messages[], File[].uuid\n",
    "    Core->>Embedding API: ChatHistory.messages[]\n",
    "    Embedding API->>Core: ChatHistory.messages[].embeddings\n",
    "    Elastic->>Core: File[].Chunk[].embeddings\n",
    "    Core->>LLM API: ChatHistory.messages[].embeddings + File[].Chunk[].embeddings\n",
    "\n",
    "```"
   ]
  },
  {
   "cell_type": "markdown",
   "metadata": {},
   "source": [
    "## Schema\n",
    "\n",
    "```mermaid\n",
    "---\n",
    "title: Django schema\n",
    "---\n",
    "\n",
    "erDiagram\n",
    "    User }|--|{ UserGroup : \"UserGroup.users\"\n",
    "    User {\n",
    "        UUID uuid\n",
    "        string name\n",
    "    }\n",
    "    UserGroup {\n",
    "        UUID uuid\n",
    "        string name\n",
    "        UUID[] users\n",
    "    }\n",
    "    \n",
    "    FileRecord }|--|| UserGroup: \"FileRecord.owner\"\n",
    "    FileRecord {\n",
    "        UUID uuid\n",
    "        UUID owner\n",
    "        string key \n",
    "    }\n",
    "\n",
    "    UserGroup ||--|{ Message : \"Mesage.owner\"\n",
    "    Message {\n",
    "        UUID uuid\n",
    "        UUID owner\n",
    "        string text\n",
    "        string role \n",
    "    }\n",
    "\n",
    "    Message }|--|| ChatHistory: \"ChatHistory.messages\"\n",
    "    UserGroup ||--|{ ChatHistory: \"ChatHistory.owner\"\n",
    "\n",
    "    ChatHistory {\n",
    "        UUID uuid\n",
    "        string name\n",
    "        UUID owner\n",
    "        UUID[] messages\n",
    "        UUID[] files_received\n",
    "        UUID[] files_cited\n",
    "    }\n",
    "\n",
    "    ChatHistory ||--o{ FileRecord: \"ChatHistory.files_received\"\n",
    "    ChatHistory ||--o{ FileRecord: \"ChatHistory.files_cited\"\n",
    "```"
   ]
  },
  {
   "cell_type": "markdown",
   "metadata": {},
   "source": [
    "```mermaid\n",
    "---\n",
    "title: Elastic schema\n",
    "---\n",
    "\n",
    "erDiagram\n",
    "    File ||--o{ Chunk : \"File.uuid\"\n",
    "    File {\n",
    "        UUID uuid\n",
    "    }\n",
    "    Chunk {\n",
    "        UUID uuid\n",
    "        UUID parent_file_uuid\n",
    "        int index\n",
    "        str text\n",
    "        dict metadata\n",
    "        float[] embedding\n",
    "    }\n",
    "```"
   ]
  }
 ],
 "metadata": {
  "kernelspec": {
   "display_name": "redbox-WWcte2nq-py3.11",
   "language": "python",
   "name": "python3"
  },
  "language_info": {
   "codemirror_mode": {
    "name": "ipython",
    "version": 3
   },
   "file_extension": ".py",
   "mimetype": "text/x-python",
   "name": "python",
   "nbconvert_exporter": "python",
   "pygments_lexer": "ipython3",
   "version": "3.11.8"
  }
 },
 "nbformat": 4,
 "nbformat_minor": 2
}
