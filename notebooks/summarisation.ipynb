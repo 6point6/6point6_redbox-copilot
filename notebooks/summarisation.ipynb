{
 "cells": [
  {
   "cell_type": "code",
   "execution_count": null,
   "metadata": {},
   "outputs": [],
   "source": [
    "%load_ext autoreload\n",
    "%autoreload 2"
   ]
  },
  {
   "cell_type": "code",
   "execution_count": null,
   "metadata": {},
   "outputs": [],
   "source": [
    "import json\n",
    "import os\n",
    "from datetime import datetime\n",
    "from pathlib import Path\n",
    "from typing import Any, Dict\n",
    "\n",
    "import dotenv\n",
    "from langchain.callbacks.base import BaseCallbackHandler\n",
    "from langchain.chains import MapReduceDocumentsChain, ReduceDocumentsChain\n",
    "from langchain.chains.combine_documents.stuff import StuffDocumentsChain\n",
    "from langchain.chains.llm import LLMChain\n",
    "from langchain.chat_models import ChatAnthropic\n",
    "from langchain.embeddings import SentenceTransformerEmbeddings\n",
    "from langchain.vectorstores import Chroma\n",
    "from pyprojroot import here\n",
    "\n",
    "import redbox.llm.spotlight.spotlight as spotlight_formats\n",
    "from redbox.llm.llm_base import LLMHandler\n",
    "from redbox.llm.prompts.spotlight import SPOTLIGHT_COMBINATION_TASK_PROMPT\n",
    "from redbox.models.file import File\n",
    "from redbox.models.spotlight import Spotlight\n",
    "\n",
    "ENV = dotenv.dotenv_values(\"../.env\")\n",
    "\n",
    "test_user_info = {\n",
    "    \"name\": \"Liam Wilkinson\",\n",
    "    \"email\": \"liam.wilkinson@cabinetoffice.gov.uk\",\n",
    "    \"department\": \"Cabinet Office\",\n",
    "    \"role\": \"Economic Policy\",\n",
    "    \"preferred_language\": \"British English\",\n",
    "}"
   ]
  },
  {
   "cell_type": "code",
   "execution_count": null,
   "metadata": {},
   "outputs": [],
   "source": [
    "SPOTLIGHT_COMBINATION_TASK_PROMPT.json()"
   ]
  },
  {
   "cell_type": "code",
   "execution_count": null,
   "metadata": {},
   "outputs": [],
   "source": [
    "llm = ChatAnthropic(anthropic_api_key=ENV[\"ANTHROPIC_API_KEY\"])\n",
    "\n",
    "handler = LLMHandler(\n",
    "    llm=llm,\n",
    "    user_uuid=\"foo\",\n",
    "    vector_store=Chroma(\n",
    "        embedding_function=SentenceTransformerEmbeddings(),\n",
    "        persist_directory=\"../data/dev/db\",\n",
    "    ),\n",
    ")"
   ]
  },
  {
   "cell_type": "code",
   "execution_count": null,
   "metadata": {},
   "outputs": [],
   "source": [
    "file_dir = Path(\"/Users/willlangdale/DS/10ds-ai-redbox/data/dev/file\")\n",
    "json_list = list(file_dir.glob(\"**/*.json\"))\n",
    "files = []\n",
    "for file in json_list:\n",
    "    with open(Path(file_dir / file)) as f:\n",
    "        files.append(File(**json.load(f)))"
   ]
  },
  {
   "cell_type": "code",
   "execution_count": null,
   "metadata": {},
   "outputs": [],
   "source": [
    "spotlight.tasks[0].model_dump()"
   ]
  },
  {
   "cell_type": "code",
   "execution_count": null,
   "metadata": {},
   "outputs": [],
   "source": [
    "spotlight = Spotlight(\n",
    "    files=files,\n",
    "    file_hash=\"abc\",\n",
    "    formats=[\n",
    "        spotlight_formats.email_format,\n",
    "        spotlight_formats.meeting_format,\n",
    "        spotlight_formats.briefing_format,\n",
    "        spotlight_formats.proposal_format,\n",
    "        spotlight_formats.other_format,\n",
    "    ],\n",
    ")\n",
    "spotlight"
   ]
  },
  {
   "cell_type": "code",
   "execution_count": null,
   "metadata": {},
   "outputs": [],
   "source": [
    "for task in spotlight.tasks:\n",
    "    print(task.id)\n",
    "    llm_chain = LLMChain(llm=handler.llm, prompt=task.prompt_template)\n",
    "    chain = StuffDocumentsChain(llm_chain=llm_chain, document_variable_name=\"text\")\n",
    "    res = chain.run(\n",
    "        user_info=test_user_info,\n",
    "        current_datetime=datetime.now().isoformat(),\n",
    "        input_documents=spotlight.to_documents(),\n",
    "    )\n",
    "    print(res)\n",
    "    break"
   ]
  },
  {
   "cell_type": "code",
   "execution_count": null,
   "metadata": {},
   "outputs": [],
   "source": [
    "class MyHandler(BaseCallbackHandler):\n",
    "    def __init__(self, count_element):\n",
    "        self.count_element = count_element\n",
    "        self.initial_count = 0\n",
    "\n",
    "    def on_chain_end(self, outputs: Dict[str, Any], **kwargs: Any) -> None:\n",
    "        self.count_element += 1\n",
    "\n",
    "\n",
    "handler = MyHandler()\n",
    "\n",
    "for task in spotlight.tasks:\n",
    "    print(task.id)\n",
    "    map_chain = LLMChain(llm=llm, prompt=task.prompt_template)\n",
    "    reduce_chain = LLMChain(llm=llm, prompt=SPOTLIGHT_COMBINATION_TASK_PROMPT)\n",
    "\n",
    "    combine_documents_chain = StuffDocumentsChain(\n",
    "        llm_chain=reduce_chain, document_variable_name=\"text\"\n",
    "    )\n",
    "    reduce_documents_chain = ReduceDocumentsChain(\n",
    "        combine_documents_chain=combine_documents_chain,\n",
    "        collapse_documents_chain=combine_documents_chain,\n",
    "        token_max=100000,\n",
    "    )\n",
    "    map_reduce_chain = MapReduceDocumentsChain(\n",
    "        llm_chain=map_chain,\n",
    "        reduce_documents_chain=reduce_documents_chain,\n",
    "        document_variable_name=\"text\",\n",
    "        return_intermediate_steps=False,\n",
    "    )\n",
    "    res = map_reduce_chain.run(\n",
    "        user_info=test_user_info,\n",
    "        current_datetime=datetime.now().isoformat(),\n",
    "        input_documents=spotlight.to_documents(),\n",
    "        callbacks=[handler],\n",
    "    )\n",
    "    print(res)\n",
    "    break"
   ]
  },
  {
   "cell_type": "code",
   "execution_count": null,
   "metadata": {},
   "outputs": [],
   "source": [
    "dir(map_reduce_chain.Config)"
   ]
  },
  {
   "cell_type": "code",
   "execution_count": null,
   "metadata": {},
   "outputs": [],
   "source": [
    "dir(map_reduce_chain)"
   ]
  },
  {
   "cell_type": "code",
   "execution_count": null,
   "metadata": {},
   "outputs": [],
   "source": [
    "map_reduce_chain.json()"
   ]
  },
  {
   "cell_type": "code",
   "execution_count": null,
   "metadata": {},
   "outputs": [],
   "source": [
    "data_folder = os.path.join(here(), \"data\", \"dev\")\n",
    "spotlight_data_folder = os.path.join(data_folder, \"spotlight\")\n",
    "spotlight_dir = Path(spotlight_data_folder)\n",
    "spotlight_completed = {}\n",
    "\n",
    "for complete in list(spotlight_dir.glob(\"**/*.json\")):\n",
    "    spotlight_completed[complete.stem] = complete\n",
    "\n",
    "spotlight_completed"
   ]
  }
 ],
 "metadata": {
  "language_info": {
   "codemirror_mode": {
    "name": "ipython",
    "version": 3
   },
   "file_extension": ".py",
   "mimetype": "text/x-python",
   "name": "python",
   "nbconvert_exporter": "python",
   "pygments_lexer": "ipython3",
   "version": "3.9.12"
  }
 },
 "nbformat": 4,
 "nbformat_minor": 2
}
