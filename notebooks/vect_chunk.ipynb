{
 "cells": [
  {
   "cell_type": "code",
   "execution_count": null,
   "metadata": {},
   "outputs": [],
   "source": [
    "import glob\n",
    "import json\n",
    "import os\n",
    "\n",
    "import matplotlib.pyplot as plt\n",
    "import pandas as pd\n",
    "import seaborn as sns\n",
    "from sentence_transformers import SentenceTransformer\n",
    "from sklearn.manifold import TSNE\n",
    "\n",
    "from redbox.models.file import Chunk, File\n",
    "\n",
    "model = SentenceTransformer(\"bert-base-nli-mean-tokens\")"
   ]
  },
  {
   "cell_type": "code",
   "execution_count": null,
   "metadata": {},
   "outputs": [],
   "source": [
    "file_names = os.listdir(\"../data/dev/file/\")\n",
    "file_paths = [os.path.join(\"../data/dev/file/\", file_name) for file_name in file_names]\n",
    "\n",
    "chunk_names = os.listdir(\"../data/dev/chunks/\")\n",
    "chunk_paths = [\n",
    "    os.path.join(\"../data/dev/chunks/\", chunk_name) for chunk_name in chunk_names\n",
    "]"
   ]
  },
  {
   "cell_type": "code",
   "execution_count": null,
   "metadata": {},
   "outputs": [],
   "source": [
    "index = 2\n",
    "with open(file_paths[index], \"r\") as f:\n",
    "    file = File(**json.load(f))\n",
    "\n",
    "file_basename = os.path.basename(file.name)\n",
    "\n",
    "child_chunks = glob.glob(f\"../data/dev/chunks/{file_basename}.*.json\")\n",
    "chunks = []\n",
    "\n",
    "for child_chunk in child_chunks:\n",
    "    with open(child_chunk) as f:\n",
    "        chunk = Chunk(**json.load(f))\n",
    "        chunks.append(chunk)"
   ]
  },
  {
   "cell_type": "code",
   "execution_count": null,
   "metadata": {},
   "outputs": [],
   "source": [
    "chunk_texts = [chunk.text for chunk in chunks]\n",
    "\n",
    "pool = model.start_multi_process_pool()\n",
    "\n",
    "chunk_vectors = model.encode_multi_process(chunk_texts, pool=pool)"
   ]
  },
  {
   "cell_type": "code",
   "execution_count": null,
   "metadata": {},
   "outputs": [],
   "source": [
    "chunk_vectors.shape"
   ]
  },
  {
   "cell_type": "code",
   "execution_count": null,
   "metadata": {},
   "outputs": [],
   "source": [
    "tsne = TSNE(n_components=2, verbose=1, n_iter=300)\n",
    "\n",
    "X = tsne.fit_transform(chunk_vectors)"
   ]
  },
  {
   "cell_type": "code",
   "execution_count": null,
   "metadata": {},
   "outputs": [],
   "source": [
    "df = pd.DataFrame(X, columns=[\"x\", \"y\"])\n",
    "df[\"chunk_index\"] = [chunk.index for chunk in chunks]"
   ]
  },
  {
   "cell_type": "code",
   "execution_count": null,
   "metadata": {},
   "outputs": [],
   "source": [
    "%matplotlib widget\n",
    "\n",
    "fig = plt.figure(figsize=(10, 10))\n",
    "ax = fig.add_subplot(111, projection=\"3d\")\n",
    "ax.scatter(df[\"x\"], df[\"y\"], df[\"chunk_index\"], c=df[\"chunk_index\"], cmap=\"inferno\")\n",
    "\n",
    "# add lines to show sequence of chunks\n",
    "for i in range(len(df) - 1):\n",
    "    color_mapped = sns.color_palette(\"inferno\", len(df[\"chunk_index\"]))[\n",
    "        int(df[\"chunk_index\"][i])\n",
    "    ]\n",
    "    ax.plot(\n",
    "        [df[\"x\"][i], df[\"x\"][i + 1]],\n",
    "        [df[\"y\"][i], df[\"y\"][i + 1]],\n",
    "        [df[\"chunk_index\"][i], df[\"chunk_index\"][i + 1]],\n",
    "        c=color_mapped,\n",
    "    )\n",
    "\n",
    "plt.show()"
   ]
  },
  {
   "cell_type": "code",
   "execution_count": null,
   "metadata": {},
   "outputs": [],
   "source": []
  }
 ],
 "metadata": {
  "language_info": {
   "codemirror_mode": {
    "name": "ipython",
    "version": 3
   },
   "file_extension": ".py",
   "mimetype": "text/x-python",
   "name": "python",
   "nbconvert_exporter": "python",
   "pygments_lexer": "ipython3",
   "version": "3.9.6"
  }
 },
 "nbformat": 4,
 "nbformat_minor": 2
}
