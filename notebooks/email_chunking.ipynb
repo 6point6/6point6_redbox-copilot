{
 "cells": [
  {
   "cell_type": "code",
   "execution_count": null,
   "metadata": {},
   "outputs": [],
   "source": [
    "%load_ext autoreload\n",
    "%autoreload 2"
   ]
  },
  {
   "cell_type": "code",
   "execution_count": null,
   "metadata": {},
   "outputs": [],
   "source": [
    "import email\n",
    "import re\n",
    "from email.message import Message\n",
    "from email.parser import BytesParser, Parser\n",
    "from pathlib import Path\n",
    "from typing import List, Union\n",
    "\n",
    "import magic\n",
    "from email_reply_parser import EmailReplyParser\n",
    "from IPython.core.interactiveshell import InteractiveShell\n",
    "from langchain.document_loaders import UnstructuredEmailLoader\n",
    "from unstructured.chunking.title import chunk_by_title\n",
    "from unstructured.documents.elements import NarrativeText, Title\n",
    "from unstructured.partition.auto import partition\n",
    "from unstructured.partition.email import partition_email\n",
    "\n",
    "from redbox.models.file import Chunk, File\n",
    "from redbox.parsing.chunkers import email_chunker\n",
    "\n",
    "InteractiveShell.ast_node_interactivity = \"all\""
   ]
  },
  {
   "cell_type": "markdown",
   "metadata": {},
   "source": [
    "x[0]"
   ]
  },
  {
   "cell_type": "markdown",
   "metadata": {},
   "source": [
    "# Email chunking tests\n",
    "\n",
    "See [unstructured's `partition_email` documentation](https://unstructured-io.github.io/unstructured/bricks/partition.html#partition-email) and the [source code](https://github.com/Unstructured-IO/unstructured/blob/7fdddfbc1e98fb4d7a57ebb11aef4eca07b076e6/unstructured/partition/email.py#L4)"
   ]
  },
  {
   "cell_type": "code",
   "execution_count": null,
   "metadata": {},
   "outputs": [],
   "source": [
    "emails = Path(\"/Users/willlangdale/Downloads/mikel mail master spec-fixtures_emails\")\n",
    "email_list = list(emails.glob(\"**/*.eml\"))\n",
    "email_files = []\n",
    "for i, file in enumerate(email_list):\n",
    "    email_files.append(File(path=file.as_posix(), type=file.suffix, name=file.stem))"
   ]
  },
  {
   "cell_type": "code",
   "execution_count": null,
   "metadata": {},
   "outputs": [],
   "source": [
    "[(i, e) for i, e in enumerate(email_list) if \"DDaT\" in e.as_posix()]"
   ]
  },
  {
   "cell_type": "code",
   "execution_count": null,
   "metadata": {},
   "outputs": [],
   "source": [
    "email_files[1]"
   ]
  },
  {
   "cell_type": "code",
   "execution_count": null,
   "metadata": {},
   "outputs": [],
   "source": [
    "file = email_files[1]\n",
    "\n",
    "with open(file.path, \"r\") as f:\n",
    "    email = f.read()\n",
    "\n",
    "email_parser = BytesParser()\n",
    "messages = re.split(r\"(?=^From:)\", email, flags=re.M)\n",
    "messages = list(filter(None, messages))\n",
    "\n",
    "raw_chunks = []\n",
    "for message in messages:\n",
    "    message = email_parser.parsebytes(message.encode(\"utf-8\"))\n",
    "\n",
    "    metadata = dict(message.items())\n",
    "    metadata[\"parent_doc_uuid\"] = file.uuid\n",
    "    metadata[\"file_directory\"] = file.path\n",
    "    metadata[\"filename\"] = file.name\n",
    "    metadata[\"filetype\"] = \"message/rfc822\"\n",
    "    metadata[\"last_modified\"] = message.get(\"Date\") or \"\"\n",
    "\n",
    "    if message.is_multipart():\n",
    "        for part in message.get_payload():\n",
    "            raw_chunks.append({\"metadata\": metadata, \"text\": part.get_payload()})\n",
    "    else:\n",
    "        raw_chunks.append({\"metadata\": metadata, \"text\": message.get_payload()})"
   ]
  },
  {
   "cell_type": "code",
   "execution_count": null,
   "metadata": {},
   "outputs": [],
   "source": [
    "blob = open(file.path, \"rb\").read()\n",
    "m = magic.open(magic.MAGIC_MIME_ENCODING)\n",
    "m.load()\n",
    "encoding = m.buffer(blob)\n",
    "encoding"
   ]
  },
  {
   "cell_type": "code",
   "execution_count": null,
   "metadata": {},
   "outputs": [],
   "source": [
    "def email_chunker(file: File) -> List[Chunk]:\n",
    "    with open(file.path, \"r\") as f:\n",
    "        email = f.read()\n",
    "\n",
    "    email_parser = BytesParser()\n",
    "    messages = re.split(r\"(?=^From:)\", email, flags=re.M)\n",
    "    messages = list(filter(None, messages))\n",
    "\n",
    "    raw_chunks = []\n",
    "    for message in messages:\n",
    "        message = email_parser.parsebytes(message.encode(\"utf-8\"))\n",
    "\n",
    "        metadata = dict(message.items())\n",
    "        metadata[\"parent_doc_uuid\"] = file.uuid\n",
    "        metadata[\"file_directory\"] = file.path\n",
    "        metadata[\"filename\"] = file.name\n",
    "        metadata[\"filetype\"] = \"message/rfc822\"\n",
    "        metadata[\"last_modified\"] = message.get(\"Date\") or \"\"\n",
    "\n",
    "        if message.is_multipart():\n",
    "            for part in message.get_payload():\n",
    "                raw_chunks.append({\"metadata\": metadata, \"text\": part.get_payload()})\n",
    "        else:\n",
    "            raw_chunks.append({\"metadata\": metadata, \"text\": message.get_payload()})\n",
    "\n",
    "    chunks = []\n",
    "    for i, raw_chunk in enumerate(raw_chunks):\n",
    "        chunk = Chunk(\n",
    "            parent_file=file,\n",
    "            index=i,\n",
    "            text=raw_chunk[\"text\"],\n",
    "            metadata=raw_chunk[\"metadata\"],\n",
    "        )\n",
    "        chunks.append(chunk)\n",
    "\n",
    "    return chunks"
   ]
  },
  {
   "cell_type": "code",
   "execution_count": null,
   "metadata": {},
   "outputs": [],
   "source": [
    "def email_chunker(file: File) -> List[Chunk]:\n",
    "    elements = partition_email(filename=file.path)\n",
    "\n",
    "    chunks = []\n",
    "    for i, raw_chunk in enumerate(elements):\n",
    "        raw_chunk = raw_chunk.to_dict()\n",
    "        raw_chunk[\"metadata\"][\"parent_doc_uuid\"] = file.uuid\n",
    "\n",
    "        chunk = Chunk(\n",
    "            parent_file=file,\n",
    "            index=i,\n",
    "            text=raw_chunk[\"text\"],\n",
    "            metadata=raw_chunk[\"metadata\"],\n",
    "        )\n",
    "        chunks.append(chunk)\n",
    "\n",
    "    return chunks"
   ]
  },
  {
   "cell_type": "code",
   "execution_count": null,
   "metadata": {},
   "outputs": [],
   "source": [
    "email_chunker(email_files[9])"
   ]
  },
  {
   "cell_type": "code",
   "execution_count": null,
   "metadata": {},
   "outputs": [],
   "source": [
    "def get_payload(email: Union[Message, List[Message]]):\n",
    "    flattened_list = []\n",
    "\n",
    "    for em in email:\n",
    "        if isinstance(email, Message):\n",
    "            flattened_list.append(email.get_payload())\n",
    "        else:\n",
    "            flattened_list.extend(get_payload(em))\n",
    "\n",
    "    return flattened_list\n",
    "\n",
    "    for item in animal_list:\n",
    "        if isinstance(item, str):\n",
    "            flattened_list.append(item.lower())\n",
    "        else:\n",
    "            flattened_list.extend(flatten_and_lowercase(item))\n",
    "    return flattened_list\n",
    "\n",
    "\n",
    "animals = [\n",
    "    \"DOG\",\n",
    "    [\"CAT\", \"RABBIT\"],\n",
    "    \"COW\",\n",
    "    [\"CHICKEN\", [\"NEWT\", [\"BEAR\"], \"OWL\"], \"FISH\"],\n",
    "    \"EMU\",\n",
    "]\n",
    "result = flatten_and_get_characters(animals)\n",
    "print(result)"
   ]
  },
  {
   "cell_type": "code",
   "execution_count": null,
   "metadata": {},
   "outputs": [],
   "source": [
    "# pass an object\n",
    "# if it's an email, return payload\n",
    "# if it's a list, iterate over and return payload\n",
    "\n",
    "\n",
    "def get_payload(email: Union[Message, List[Message]]) -> List[str]:\n",
    "    out = []\n",
    "    if isinstance(email, list):\n",
    "        for em in email:\n",
    "            content = get_payload(email)\n",
    "            out.extend(content)\n",
    "    elif isinstance(email, Message):\n",
    "        out.append(email.get_payload())\n",
    "\n",
    "    return out\n",
    "\n",
    "    # if isinstance(email, Message):\n",
    "    #     content = email.get_payload()\n",
    "    #     if isinstance(content, list):\n",
    "    #         content = get_payload(content)\n",
    "    #     else:\n",
    "    #         out.append(content)\n",
    "    #         # print(out)\n",
    "    # elif isinstance(email, list):\n",
    "    #     content = [get_payload(em) for em in email]\n",
    "    #     out.extend(content)\n",
    "    #     print(out)\n",
    "    # return out"
   ]
  },
  {
   "cell_type": "code",
   "execution_count": null,
   "metadata": {},
   "outputs": [],
   "source": [
    "msg = email_parser.parsebytes(messages[1].encode(\"utf-8\"))"
   ]
  },
  {
   "cell_type": "code",
   "execution_count": null,
   "metadata": {},
   "outputs": [],
   "source": [
    "get_payload(msg)"
   ]
  },
  {
   "cell_type": "code",
   "execution_count": null,
   "metadata": {},
   "outputs": [],
   "source": [
    "msg.get_payload()[0].get_payload()"
   ]
  },
  {
   "cell_type": "code",
   "execution_count": null,
   "metadata": {},
   "outputs": [],
   "source": [
    "email_parser.parsebytes(messages[1])"
   ]
  },
  {
   "cell_type": "code",
   "execution_count": null,
   "metadata": {},
   "outputs": [],
   "source": [
    "raw_chunks"
   ]
  },
  {
   "cell_type": "code",
   "execution_count": null,
   "metadata": {},
   "outputs": [],
   "source": [
    "chunks = []\n",
    "for i, raw_chunk in enumerate(raw_chunks):\n",
    "    chunk = Chunk(\n",
    "        parent_file=file,\n",
    "        index=i,\n",
    "        text=raw_chunk[\"text\"],\n",
    "        metadata=raw_chunk[\"metadata\"],\n",
    "    )\n",
    "    chunks.append(chunk)"
   ]
  },
  {
   "cell_type": "code",
   "execution_count": null,
   "metadata": {},
   "outputs": [],
   "source": [
    "email_chunker(email_files[1])"
   ]
  },
  {
   "cell_type": "code",
   "execution_count": null,
   "metadata": {},
   "outputs": [],
   "source": [
    "email_list[0]\n",
    "\n",
    "# Analyse document structure to extract elements\n",
    "elements = partition(filename=email_list[0], content_source=\"text/plain\")\n",
    "\n",
    "# Link elements into chunks\n",
    "raw_chunks = chunk_by_title(elements=elements)"
   ]
  },
  {
   "cell_type": "code",
   "execution_count": null,
   "metadata": {},
   "outputs": [],
   "source": [
    "[el for el in elements]\n",
    "[el for el in elements]"
   ]
  },
  {
   "cell_type": "code",
   "execution_count": null,
   "metadata": {},
   "outputs": [],
   "source": [
    "[str(el) for el in elements if isinstance(el, Title)]\n",
    "[str(el) for el in elements if isinstance(el, NarrativeText)]"
   ]
  },
  {
   "cell_type": "code",
   "execution_count": null,
   "metadata": {},
   "outputs": [],
   "source": [
    "print(\"\\n\\n\".join([str(el) for el in elements]))"
   ]
  },
  {
   "cell_type": "code",
   "execution_count": null,
   "metadata": {},
   "outputs": [],
   "source": [
    "print(\"\\n\\n--------------------\\n\\n\".join([str(ch) for ch in raw_chunks]))"
   ]
  },
  {
   "cell_type": "code",
   "execution_count": null,
   "metadata": {},
   "outputs": [],
   "source": [
    "email_loader = UnstructuredEmailLoader(\n",
    "    file_path=email_list[0],\n",
    "    # mode='elements',\n",
    "    process_attachments=False,\n",
    ")\n",
    "\n",
    "email = email_loader.load()\n",
    "email"
   ]
  },
  {
   "cell_type": "code",
   "execution_count": null,
   "metadata": {},
   "outputs": [],
   "source": [
    "with open(email_list[0], \"r\") as f:\n",
    "    parser = Parser()\n",
    "    email = parser.parse(f)\n",
    "\n",
    "email.get_boundary()"
   ]
  },
  {
   "cell_type": "code",
   "execution_count": null,
   "metadata": {},
   "outputs": [],
   "source": [
    "# email.keys()\n",
    "email[\"From\"]"
   ]
  },
  {
   "cell_type": "code",
   "execution_count": null,
   "metadata": {},
   "outputs": [],
   "source": [
    "def split_email_reply(email_text):\n",
    "    email_objects = []\n",
    "    email_parser = BytesParser()\n",
    "    messages = re.split(r\"(?=^From:)\", email_text, flags=re.M)\n",
    "    messages[0:2] = [\"\".join(messages[0:2])]\n",
    "    messages = list(filter(None, messages))\n",
    "\n",
    "    for message in messages:\n",
    "        message = email_parser.parsebytes(message.encode(\"utf-8\"))\n",
    "        email_objects.append(message)\n",
    "\n",
    "    return email_objects"
   ]
  },
  {
   "cell_type": "code",
   "execution_count": null,
   "metadata": {},
   "outputs": [],
   "source": [
    "x[0].get(\"Date\")"
   ]
  },
  {
   "cell_type": "code",
   "execution_count": null,
   "metadata": {},
   "outputs": [],
   "source": [
    "with open(email_list[0], \"r\") as f:\n",
    "    email = f.read()\n",
    "\n",
    "x = split_email_reply(email)\n",
    "\n",
    "[m[\"To\"] for m in x]\n",
    "[m[\"From\"] for m in x]\n",
    "[m[\"Subject\"] for m in x]\n",
    "[m[\"Received\"] for m in x]\n",
    "[m[\"Date\"] for m in x]\n",
    "[m[\"Content-Type\"] for m in x]\n",
    "[m.get_payload(decode=True) for m in x]"
   ]
  },
  {
   "cell_type": "code",
   "execution_count": null,
   "metadata": {},
   "outputs": [],
   "source": [
    "dir(x[0])\n",
    "dict(x[0].items())"
   ]
  },
  {
   "cell_type": "code",
   "execution_count": null,
   "metadata": {},
   "outputs": [],
   "source": [
    "if email_message.is_multipart():\n",
    "    for part in email_message.get_payload():\n",
    "        body = part.get_payload()\n",
    "        # more processing?\n",
    "else:\n",
    "    body = email_message.get_payload()"
   ]
  },
  {
   "cell_type": "code",
   "execution_count": null,
   "metadata": {},
   "outputs": [],
   "source": [
    "email_objects = []\n",
    "email_parser = BytesParser()\n",
    "messages = re.split(r\"(?=^From:)\", email, flags=re.M)\n",
    "messages\n",
    "# messages = list(filter(None, messages))"
   ]
  },
  {
   "cell_type": "code",
   "execution_count": null,
   "metadata": {},
   "outputs": [],
   "source": [
    "messages[0:0]"
   ]
  },
  {
   "cell_type": "code",
   "execution_count": null,
   "metadata": {},
   "outputs": [],
   "source": [
    "# [chunk_by_title(n) for n  in x[0]]\n",
    "y = chunk_by_title(elements=x[3])\n",
    "[a.to_dict()[\"text\"] for a in y]"
   ]
  },
  {
   "cell_type": "code",
   "execution_count": null,
   "metadata": {},
   "outputs": [],
   "source": [
    "print(email)"
   ]
  },
  {
   "cell_type": "code",
   "execution_count": null,
   "metadata": {},
   "outputs": [],
   "source": [
    "email_objects = []\n",
    "email_parser = BytesParser()\n",
    "messages = re.split(r\"(?=^From:)\", email, flags=re.M)\n",
    "messages = list(filter(None, messages))\n",
    "\n",
    "for message in messages:\n",
    "    message = email_parser.parsebytes(message.encode(\"utf-8\"))\n",
    "    email_objects.append(message)"
   ]
  },
  {
   "cell_type": "code",
   "execution_count": null,
   "metadata": {},
   "outputs": [],
   "source": [
    "messages[1]"
   ]
  },
  {
   "cell_type": "code",
   "execution_count": null,
   "metadata": {},
   "outputs": [],
   "source": []
  },
  {
   "cell_type": "code",
   "execution_count": null,
   "metadata": {},
   "outputs": [],
   "source": [
    "messages = re.split(r\"(?=^From:)\", email, flags=re.M)"
   ]
  },
  {
   "cell_type": "code",
   "execution_count": null,
   "metadata": {},
   "outputs": [],
   "source": [
    "messages"
   ]
  },
  {
   "cell_type": "code",
   "execution_count": null,
   "metadata": {},
   "outputs": [],
   "source": [
    "with open(email_list[0], \"r\") as f:\n",
    "    email = EmailReplyParser.parse_reply(f.read())\n",
    "\n",
    "print(email)"
   ]
  }
 ],
 "metadata": {
  "language_info": {
   "codemirror_mode": {
    "name": "ipython",
    "version": 3
   },
   "file_extension": ".py",
   "mimetype": "text/x-python",
   "name": "python",
   "nbconvert_exporter": "python",
   "pygments_lexer": "ipython3",
   "version": "3.9.12"
  }
 },
 "nbformat": 4,
 "nbformat_minor": 2
}
