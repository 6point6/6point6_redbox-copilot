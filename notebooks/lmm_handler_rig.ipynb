{
 "cells": [
  {
   "cell_type": "code",
   "execution_count": null,
   "metadata": {},
   "outputs": [],
   "source": [
    "import dotenv\n",
    "from langchain.chat_models import ChatAnthropic\n",
    "from langchain.embeddings import SentenceTransformerEmbeddings\n",
    "from langchain.schema import SystemMessage\n",
    "from langchain.vectorstores import Chroma\n",
    "\n",
    "from redbox.llm.llm_base import LLMHandler\n",
    "\n",
    "ENV = dotenv.dotenv_values(\"../.env\")"
   ]
  },
  {
   "cell_type": "code",
   "execution_count": null,
   "metadata": {},
   "outputs": [],
   "source": [
    "llm = ChatAnthropic(anthropic_api_key=ENV[\"ANTHROPIC_API_KEY\"])\n",
    "\n",
    "llm_handler = LLMHandler(\n",
    "    llm=llm,\n",
    "    vector_store=Chroma(\n",
    "        embedding_function=SentenceTransformerEmbeddings(),\n",
    "        persist_directory=\"../data/dev/db/\",\n",
    "    ),\n",
    ")"
   ]
  },
  {
   "cell_type": "code",
   "execution_count": null,
   "metadata": {},
   "outputs": [],
   "source": [
    "resp = llm_handler.chat_with_rag(user_question=\"What is the cabinet office?\")"
   ]
  },
  {
   "cell_type": "code",
   "execution_count": null,
   "metadata": {},
   "outputs": [],
   "source": [
    "for message in resp[\"chat_history\"]:\n",
    "    print(message.type, \" : \", message.content)"
   ]
  },
  {
   "cell_type": "code",
   "execution_count": null,
   "metadata": {},
   "outputs": [],
   "source": [
    "resp.keys()"
   ]
  },
  {
   "cell_type": "code",
   "execution_count": null,
   "metadata": {},
   "outputs": [],
   "source": [
    "resp[\"source_documents\"][0].metadata[\"filename\"]"
   ]
  },
  {
   "cell_type": "code",
   "execution_count": null,
   "metadata": {},
   "outputs": [],
   "source": [
    "cited_file_names = []\n",
    "\n",
    "for chunk in resp[\"source_documents\"]:\n",
    "    chunk_parent_filename = chunk.metadata[\"filename\"]\n",
    "    cited_file_names.append(chunk_parent_filename)\n",
    "\n",
    "cited_file_names = list(set(cited_file_names))\n",
    "\n",
    "cited_file_names"
   ]
  },
  {
   "cell_type": "code",
   "execution_count": null,
   "metadata": {},
   "outputs": [],
   "source": []
  }
 ],
 "metadata": {
  "language_info": {
   "codemirror_mode": {
    "name": "ipython",
    "version": 3
   },
   "file_extension": ".py",
   "mimetype": "text/x-python",
   "name": "python",
   "nbconvert_exporter": "python",
   "pygments_lexer": "ipython3",
   "version": "3.9.6"
  }
 },
 "nbformat": 4,
 "nbformat_minor": 2
}
