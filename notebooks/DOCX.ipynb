{
 "cells": [
  {
   "cell_type": "code",
   "execution_count": null,
   "metadata": {},
   "outputs": [],
   "source": [
    "import json\n",
    "import pathlib\n",
    "import re\n",
    "import tempfile\n",
    "from io import BytesIO, StringIO\n",
    "from pprint import pprint\n",
    "from typing import List, Optional\n",
    "\n",
    "import markdown\n",
    "from dateutil import parser\n",
    "from docx import Document\n",
    "from docx.shared import Inches\n",
    "from docx.text.paragraph import Paragraph\n",
    "from docx.text.parfmt import ParagraphFormat\n",
    "from pydantic import TypeAdapter\n",
    "from unstructured.partition.html import partition_html\n",
    "\n",
    "from redbox import __version__ as redbox_version\n",
    "from redbox.models import File, SpotlightComplete\n",
    "from redbox.storage import FileSystemStorageHandler"
   ]
  },
  {
   "cell_type": "code",
   "execution_count": null,
   "metadata": {},
   "outputs": [],
   "source": [
    "storage_handler = FileSystemStorageHandler(root_path=pathlib.Path(\"../data/local/\"))"
   ]
  },
  {
   "cell_type": "code",
   "execution_count": null,
   "metadata": {},
   "outputs": [],
   "source": [
    "completed_spotlights = storage_handler.read_all_items(model_type=\"SpotlightComplete\")"
   ]
  },
  {
   "cell_type": "code",
   "execution_count": null,
   "metadata": {},
   "outputs": [],
   "source": [
    "def lookup_indentedness(raw: str, line_str_to_match: str):\n",
    "    for line in raw.split(\"\\n\"):\n",
    "        if line_str_to_match in line:\n",
    "            # count number of spaces at start of line\n",
    "            return len(line) - len(line.lstrip(\" \"))\n",
    "\n",
    "\n",
    "def spotlight_complete_to_docx(\n",
    "    spotlight_complete: SpotlightComplete,\n",
    "    files: List[File],\n",
    "    title: Optional[str] = None,\n",
    "):\n",
    "    document = Document()\n",
    "\n",
    "    document.styles[\"Normal\"].font.name = \"Arial\"\n",
    "    document.styles[\"Title\"].font.name = \"Arial\"\n",
    "    document.styles[\"Heading 1\"].font.name = \"Arial\"\n",
    "    document.styles[\"Heading 2\"].font.name = \"Arial\"\n",
    "    document.styles[\"Heading 3\"].font.name = \"Arial\"\n",
    "\n",
    "    # Header and Footer\n",
    "    section = document.sections[0]\n",
    "    header = section.header\n",
    "    header.paragraphs[0].text = \"\\tUP TO OFFICIAL SENSITIVE\"\n",
    "    header.paragraphs[0].style.font.name = \"Arial\"\n",
    "    header.paragraphs[0].style.font.bold = True\n",
    "    # Add page number to header (right hand side)\n",
    "\n",
    "    footer = section.footer\n",
    "    summary_datetime = parser.parse(spotlight_complete.created_datetime)\n",
    "    footer.paragraphs[0].text = (\n",
    "        f\"This document is AI generated\\t{redbox_version}\\tGenerated: {summary_datetime.strftime('%d %B %Y %H:%M')}\"\n",
    "    )\n",
    "    footer.paragraphs[0].style.font.name = \"Arial\"\n",
    "\n",
    "    # Content\n",
    "    if title is not None:\n",
    "        document.add_heading(title, level=0)\n",
    "    else:\n",
    "        document.add_heading(\"Redbox Copilot\", level=0)\n",
    "\n",
    "    document.add_heading(\"Summarised Files\", level=1)\n",
    "    for file in files:\n",
    "        document.add_paragraph(file.name, style=\"List Bullet\")\n",
    "\n",
    "    for task in spotlight_complete.tasks:\n",
    "        print(task.title)\n",
    "        document.add_heading(task.title, level=1)\n",
    "        paragraph = document.add_paragraph()\n",
    "        prep_raw_with_urls(task.raw, files, paragraph)\n",
    "        uuid_to_file_map = {f.uuid: f for f in files}\n",
    "\n",
    "        raw = task.raw\n",
    "        for uuid in uuid_to_file_map.keys():\n",
    "            raw = raw.replace(f\"<Doc{uuid}>\", f\"{uuid_to_file_map[uuid].name}\")\n",
    "            raw = raw.replace(f\"</Doc{uuid}>\", \"\")\n",
    "\n",
    "            raw = raw.replace(f\"Doc{uuid}\", f\"{uuid_to_file_map[uuid].name}\")\n",
    "            raw = raw.replace(f\"{uuid}\", f\"{uuid_to_file_map[uuid].name}\")\n",
    "\n",
    "        html_raw = markdown.markdown(task.raw)\n",
    "        temp_file = tempfile.NamedTemporaryFile(delete=True, suffix=\".html\")\n",
    "        with open(temp_file.name, \"w\") as f:\n",
    "            f.write(html_raw)\n",
    "\n",
    "        elements = partition_html(temp_file.name)\n",
    "\n",
    "        for element in elements:\n",
    "            element_dict = element.to_dict()\n",
    "            if element_dict[\"type\"] == \"NarrativeText\":\n",
    "                document.add_paragraph(element_dict[\"text\"])\n",
    "            elif element_dict[\"type\"] == \"ListItem\":\n",
    "                indent = lookup_indentedness(\n",
    "                    raw.replace(\"**\", \"\").replace(\"__\", \"\"),\n",
    "                    line_str_to_match=element_dict[\"text\"],\n",
    "                )\n",
    "                if indent is None:\n",
    "                    indent = 0\n",
    "                para = document.add_paragraph(element_dict[\"text\"], style=\"List Bullet\")\n",
    "                para.paragraph_format.left_indent = Inches(indent / 4)\n",
    "            elif element_dict[\"type\"] == \"Title\":\n",
    "                document.add_heading(element_dict[\"text\"], level=2)\n",
    "            else:\n",
    "                print(element_dict[\"type\"], element_dict[\"text\"])\n",
    "\n",
    "        document.add_page_break()\n",
    "\n",
    "    return document\n",
    "\n",
    "\n",
    "spotlight = completed_spotlights[0]\n",
    "files = storage_handler.read_items(model_type=\"File\", item_uuids=spotlight.file_uuids)\n",
    "\n",
    "document = spotlight_complete_to_docx(spotlight_complete=spotlight, files=files)\n",
    "\n",
    "document.save(\"demo2.docx\")"
   ]
  },
  {
   "cell_type": "markdown",
   "metadata": {},
   "source": []
  },
  {
   "cell_type": "markdown",
   "metadata": {},
   "source": []
  },
  {
   "cell_type": "code",
   "execution_count": null,
   "metadata": {},
   "outputs": [],
   "source": []
  },
  {
   "cell_type": "code",
   "execution_count": null,
   "metadata": {},
   "outputs": [],
   "source": [
    "print(spotlight.tasks[1].raw)"
   ]
  },
  {
   "cell_type": "code",
   "execution_count": null,
   "metadata": {},
   "outputs": [],
   "source": [
    "lookup_indentedness(\n",
    "    spotlight.tasks[0].raw, line_str_to_match=\"digenous energy productio\"\n",
    ")"
   ]
  },
  {
   "cell_type": "code",
   "execution_count": null,
   "metadata": {},
   "outputs": [],
   "source": [
    "html_raw = markdown.markdown(spotlight.tasks[0].raw)\n",
    "temp_file = tempfile.NamedTemporaryFile(delete=True, suffix=\".html\")\n",
    "with open(temp_file.name, \"w\") as f:\n",
    "    f.write(html_raw)\n",
    "\n",
    "elements = partition_html(temp_file.name)"
   ]
  },
  {
   "cell_type": "code",
   "execution_count": null,
   "metadata": {},
   "outputs": [],
   "source": [
    "print(spotlight.tasks[0].raw)"
   ]
  },
  {
   "cell_type": "code",
   "execution_count": null,
   "metadata": {},
   "outputs": [],
   "source": [
    "print(html_raw)"
   ]
  },
  {
   "cell_type": "code",
   "execution_count": null,
   "metadata": {},
   "outputs": [],
   "source": [
    "pprint(elements[0].to_dict())"
   ]
  },
  {
   "cell_type": "code",
   "execution_count": null,
   "metadata": {},
   "outputs": [],
   "source": []
  }
 ],
 "metadata": {
  "language_info": {
   "codemirror_mode": {
    "name": "ipython",
    "version": 3
   },
   "file_extension": ".py",
   "mimetype": "text/x-python",
   "name": "python",
   "nbconvert_exporter": "python",
   "pygments_lexer": "ipython3",
   "version": "3.9.6"
  }
 },
 "nbformat": 4,
 "nbformat_minor": 2
}
