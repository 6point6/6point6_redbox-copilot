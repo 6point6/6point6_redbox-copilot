{
 "cells": [
  {
   "cell_type": "code",
   "execution_count": null,
   "metadata": {},
   "outputs": [],
   "source": [
    "import json\n",
    "from datetime import datetime\n",
    "\n",
    "import dotenv\n",
    "from langchain.chat_models import ChatAnthropic\n",
    "from langchain.embeddings import SentenceTransformerEmbeddings\n",
    "from langchain.prompts import PromptTemplate\n",
    "from langchain.schema import AIMessage, HumanMessage, SystemMessage\n",
    "from langchain.vectorstores import Chroma\n",
    "\n",
    "from redbox.llm.llm_base import LLMHandler\n",
    "from redbox.llm.prompts.core import CORE_REDBOX_PROMPT\n",
    "from redbox.llm.prompts.spotlight import (\n",
    "    SPOTLIGHT_KEY_ACTIONS_TASK_PROMPT,\n",
    "    SPOTLIGHT_KEY_DATES_TASK_PROMPT,\n",
    "    SPOTLIGHT_KEY_DISCUSSION_TASK_PROMPT,\n",
    "    SPOTLIGHT_KEY_PEOPLE_TASK_PROMPT,\n",
    "    SPOTLIGHT_SUMMARY_TASK_PROMPT,\n",
    ")\n",
    "\n",
    "ENV = dotenv.dotenv_values(\"../.env\")"
   ]
  },
  {
   "cell_type": "code",
   "execution_count": null,
   "metadata": {},
   "outputs": [],
   "source": [
    "chinese_doc = \"\"\"<Doc1>习近平（1953年6月15日—），男，陕西富平人，生于北京，祖籍河南邓州[註 3]，中国共产党、中华人民共和国政治人物，正国级领导人，2012年11月至今任中共中央总书记及中共中央军委主席，2013年3月至今任中华人民共和国主席及国家中央军委主席，是中国党、政、军当前及第五代的最高领导人[8].\n",
    "习近平在北京出生并长大，是中国开国元老习仲勋与其第二任夫人齐心的长子，也是首位出生在中华人民共和国成立后的中共最高领导人。习近平在北京接受了中小学教育，1969年，因文化大革命对家庭带来的冲击而被迫中止学业，作为知识青年前往陕西省延安市延川县梁家河村参加劳动与工作，在此期间于1974年1月10日加入中国共产党，并在后期担任了梁家河的村党支部书记。1975年进入清华大学化工系就读，1979年毕业后先后任国务院办公厅及中央军委办公厅秘书。1982年，离京赴河北省正定县先后任县委副书记、书记，开始在地方任职。1985年赴福建，先后在福建省厦门市、宁德地区、福州市任职，1999年任福建省人民政府省长，成为正部级官员。2002年起，先后任中共浙江省委书记和中共上海市委书记。2007年10月，当选为中共中央政治局常委和中共中央书记处书记，并先后兼任或当选中共中央党校校长、国家副主席、党和国家中央军委副主席等职务。\n",
    "2012年11月，在中共十八届一中全会当选为中共中央总书记和中共中央军委主席（2017、2022年获得连任），2013年3月当选为中国国家主席和国家中央军委主席（2018、2023年全票获得连任），自從行修憲打破任期制以來，是唯一連任三屆國家主席的領導人[9][10][11]，成为党和国家最高领导人至今。2016年10月，在中共十八届六中全会上确立了其领导核心的地位[12]，兼任中国共产党第十五届中央候补委员，第十六届至第二十届中央委员，第十七届至第二十届中央政治局委员、常委，第十八至二十届中央委员会总书记。第九届至第十四届全国人大代表。\n",
    "习近平第一任妻子是柯玲玲。现任妻子为中国女高音歌唱家彭丽媛，育有一女习明泽</Doc1>\"\"\"\n",
    "\n",
    "with open(\n",
    "    \"../data/dev/file/Russie _ la détention de la journaliste russo-américaine Alsu Kurmasheva prolongée au moins jusqu’au 23 octobre.pdf.json\"\n",
    ") as f:\n",
    "    french_doc = json.load(f)\n",
    "\n",
    "example_doc_with_actions = \"\"\"<Doc1> The Chancellor, Jeremy Hunt and the Prime Minister Rishi Sunak met to discuss the economic recovery from COVID-19. \\\n",
    "The Chancellor asked the Prime Minister to write to the Bank of England to request a review of the current interest rates. \\\n",
    "The Prime Minister agreed to do so and will write to the Bank of England on 2023-10-23. \\\n",
    "Last month the Bank of England rose interest rates by 0.25% to help control inflation. </Doc1>\"\"\""
   ]
  },
  {
   "cell_type": "code",
   "execution_count": null,
   "metadata": {},
   "outputs": [],
   "source": [
    "llm = ChatAnthropic(anthropic_api_key=ENV[\"ANTHROPIC_API_KEY\"])\n",
    "\n",
    "handler = LLMHandler(\n",
    "    llm=llm,\n",
    "    user_uuid=\"dev\",\n",
    "    vector_store=Chroma(\n",
    "        embedding_function=SentenceTransformerEmbeddings(),\n",
    "        persist_directory=\"../data/dev/db\",\n",
    "    ),\n",
    ")"
   ]
  },
  {
   "cell_type": "code",
   "execution_count": null,
   "metadata": {},
   "outputs": [],
   "source": [
    "test_user_info = {\n",
    "    \"name\": \"Liam Wilkinson\",\n",
    "    \"email\": \"liam.wilkinson@cabinetoffice.gov.uk\",\n",
    "    \"department\": \"Cabinet Office\",\n",
    "    \"role\": \"Economic Policy\",\n",
    "    \"preffered_language\": \"British English\",\n",
    "}"
   ]
  },
  {
   "cell_type": "code",
   "execution_count": null,
   "metadata": {},
   "outputs": [],
   "source": [
    "messages = [\n",
    "    SystemMessage(\n",
    "        content=CORE_REDBOX_PROMPT.format(\n",
    "            user_info=test_user_info, current_datetime=datetime.now().isoformat()\n",
    "        )\n",
    "    ),\n",
    "    HumanMessage(content=\"Hi!\"),\n",
    "]\n",
    "\n",
    "resp = llm(messages)\n",
    "print(resp.content)"
   ]
  },
  {
   "cell_type": "code",
   "execution_count": null,
   "metadata": {},
   "outputs": [],
   "source": [
    "# UK Example\n",
    "\n",
    "messages = [\n",
    "    SystemMessage(\n",
    "        content=SPOTLIGHT_KEY_PEOPLE_TASK_PROMPT.format(\n",
    "            user_info=test_user_info, current_datetime=datetime.now().isoformat()\n",
    "        )\n",
    "    ),\n",
    "    HumanMessage(\n",
    "        content=\"<Doc1> The Chancellor, Jeremy Hunt and the Prime Minister Rishi Sunak met to discuss the economic recovery from COVID-19.</Doc1>\"\n",
    "    ),\n",
    "]\n",
    "\n",
    "resp = llm(messages)\n",
    "\n",
    "print(resp.content)"
   ]
  },
  {
   "cell_type": "code",
   "execution_count": null,
   "metadata": {},
   "outputs": [],
   "source": []
  },
  {
   "cell_type": "code",
   "execution_count": null,
   "metadata": {},
   "outputs": [],
   "source": [
    "# Chinese Example\n",
    "\n",
    "messages = [\n",
    "    SystemMessage(\n",
    "        content=SPOTLIGHT_KEY_PEOPLE_TASK_PROMPT.format(\n",
    "            user_info=test_user_info, current_datetime=datetime.now().isoformat()\n",
    "        )\n",
    "    ),\n",
    "    HumanMessage(content=chinese_doc),\n",
    "]\n",
    "\n",
    "resp = llm(messages=messages)\n",
    "\n",
    "print(resp.content)"
   ]
  },
  {
   "cell_type": "code",
   "execution_count": null,
   "metadata": {},
   "outputs": [],
   "source": [
    "messages = [\n",
    "    SystemMessage(\n",
    "        content=SPOTLIGHT_KEY_ACTIONS_TASK_PROMPT.format(\n",
    "            user_info=test_user_info, current_datetime=datetime.now().isoformat()\n",
    "        )\n",
    "    ),\n",
    "    HumanMessage(content=example_doc_with_actions),\n",
    "]\n",
    "\n",
    "resp = llm(messages)\n",
    "\n",
    "print(resp.content)"
   ]
  },
  {
   "cell_type": "code",
   "execution_count": null,
   "metadata": {},
   "outputs": [],
   "source": [
    "messages = [\n",
    "    SystemMessage(\n",
    "        content=SPOTLIGHT_KEY_DATES_TASK_PROMPT.format(\n",
    "            user_info=test_user_info, current_datetime=datetime.now().isoformat()\n",
    "        )\n",
    "    ),\n",
    "    HumanMessage(content=example_doc_with_actions),\n",
    "]\n",
    "\n",
    "resp = llm(messages)\n",
    "\n",
    "print(resp.content)"
   ]
  },
  {
   "cell_type": "code",
   "execution_count": null,
   "metadata": {},
   "outputs": [],
   "source": [
    "with open(\"../data/dev/file/Widget Policy proposal.eml.json\") as f:\n",
    "    file = json.load(f)\n",
    "\n",
    "\n",
    "messages = [\n",
    "    SystemMessage(\n",
    "        content=SPOTLIGHT_KEY_DISCUSSION_TASK_PROMPT.format(\n",
    "            user_info=test_user_info, current_datetime=datetime.now().isoformat()\n",
    "        )\n",
    "    ),\n",
    "    HumanMessage(content=f\"<Doc1>{file['text']}</Doc1>\"),\n",
    "]\n",
    "\n",
    "resp = llm(messages)\n",
    "\n",
    "print(resp.content)"
   ]
  },
  {
   "cell_type": "code",
   "execution_count": null,
   "metadata": {},
   "outputs": [],
   "source": []
  }
 ],
 "metadata": {
  "language_info": {
   "codemirror_mode": {
    "name": "ipython",
    "version": 3
   },
   "file_extension": ".py",
   "mimetype": "text/x-python",
   "name": "python",
   "nbconvert_exporter": "python",
   "pygments_lexer": "ipython3",
   "version": "3.9.6"
  }
 },
 "nbformat": 4,
 "nbformat_minor": 2
}
