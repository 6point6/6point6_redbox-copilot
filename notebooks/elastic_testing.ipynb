{
 "cells": [
  {
   "cell_type": "code",
   "execution_count": null,
   "metadata": {},
   "outputs": [],
   "source": [
    "import glob\n",
    "import json\n",
    "import os\n",
    "from abc import ABC, abstractmethod\n",
    "from typing import List\n",
    "\n",
    "import dotenv\n",
    "from elasticsearch import Elasticsearch\n",
    "from langchain.chat_models import ChatAnthropic\n",
    "from langchain.embeddings import SentenceTransformerEmbeddings\n",
    "from langchain.vectorstores.elasticsearch import (\n",
    "    ApproxRetrievalStrategy,\n",
    "    ElasticsearchStore,\n",
    ")\n",
    "from pydantic import BaseModel, TypeAdapter\n",
    "\n",
    "from redbox.llm.llm_base import LLMHandler\n",
    "from redbox.models import Chunk, File\n",
    "from redbox.storage import ElasticsearchStorageHandler"
   ]
  },
  {
   "cell_type": "code",
   "execution_count": null,
   "metadata": {},
   "outputs": [],
   "source": [
    "if os.path.basename(os.getcwd()) != \"10ds-ai-redbox\":\n",
    "    os.chdir(\"..\")\n",
    "    print(os.getcwd())"
   ]
  },
  {
   "cell_type": "code",
   "execution_count": null,
   "metadata": {},
   "outputs": [],
   "source": [
    "dotenv.load_dotenv(\".env\")\n",
    "# Grab it as a dictionary too for convenience\n",
    "ENV = dotenv.dotenv_values(\".env\")\n",
    "\n",
    "model_params = {\"max_tokens\": 4096, \"temperature\": 0.2}\n",
    "\n",
    "llm = ChatAnthropic(\n",
    "    anthropic_api_key=ENV[\"ANTHROPIC_API_KEY\"],\n",
    "    max_tokens=model_params[\"max_tokens\"],\n",
    "    temperature=model_params[\"temperature\"],\n",
    "    streaming=True,\n",
    ")\n",
    "\n",
    "es = Elasticsearch(\n",
    "    hosts=[{\"host\": \"localhost\", \"port\": 9200, \"scheme\": \"http\"}],\n",
    "    basic_auth=(ENV[\"ELASTIC_USER\"], ENV[\"ELASTIC_PASSWORD\"]),\n",
    ")\n",
    "\n",
    "print(json.dumps(es.info().body, indent=4))"
   ]
  },
  {
   "cell_type": "code",
   "execution_count": null,
   "metadata": {},
   "outputs": [],
   "source": [
    "file_names = os.listdir(\"data/dev/file/\")\n",
    "file_paths = [os.path.join(\"data/dev/file/\", file_name) for file_name in file_names]\n",
    "\n",
    "chunk_names = os.listdir(\"data/dev/chunks/\")\n",
    "chunk_paths = [\n",
    "    os.path.join(\"data/dev/chunks/\", chunk_name) for chunk_name in chunk_names\n",
    "]\n",
    "\n",
    "files = []\n",
    "\n",
    "\n",
    "for file_path in file_paths:\n",
    "    with open(file_path, \"r\") as f:\n",
    "        file = File(**json.load(f))\n",
    "        files.append(file)"
   ]
  },
  {
   "cell_type": "code",
   "execution_count": null,
   "metadata": {},
   "outputs": [],
   "source": [
    "# embedding_function = SentenceTransformerEmbeddings()\n",
    "# vector_store = ElasticsearchStore(\n",
    "#     es_url=\"http://localhost:9200\",\n",
    "#     es_user=ENV[\"ELASTIC_USER\"],\n",
    "#     es_password=ENV[\"ELASTIC_PASSWORD\"],\n",
    "#     index_name=\"redbox-vector\",\n",
    "#     embedding=embedding_function,\n",
    "#     strategy=ApproxRetrievalStrategy(hybrid=True),\n",
    "# )"
   ]
  },
  {
   "cell_type": "code",
   "execution_count": null,
   "metadata": {},
   "outputs": [],
   "source": [
    "# llm_handler = LLMHandler(llm=llm, vector_store=vector_store, user_uuid=\"dev\")"
   ]
  },
  {
   "cell_type": "code",
   "execution_count": null,
   "metadata": {},
   "outputs": [],
   "source": [
    "# llm_handler.add_chunks_to_vector_store(chunks)"
   ]
  },
  {
   "cell_type": "code",
   "execution_count": null,
   "metadata": {},
   "outputs": [],
   "source": [
    "# results = llm_handler.vector_store.similarity_search(\"Civil Service pay\", k=10)"
   ]
  },
  {
   "cell_type": "code",
   "execution_count": null,
   "metadata": {},
   "outputs": [],
   "source": [
    "# for doc in results:\n",
    "#     print(f'{doc.metadata[\"filename\"]} | Characters: {len(doc.page_content)}')"
   ]
  },
  {
   "cell_type": "code",
   "execution_count": null,
   "metadata": {},
   "outputs": [],
   "source": [
    "storage_handler = ElasticsearchStorageHandler(es_client=es, root_index=\"redbox-data\")"
   ]
  },
  {
   "cell_type": "code",
   "execution_count": null,
   "metadata": {},
   "outputs": [],
   "source": [
    "storage_handler.write_items(files)"
   ]
  },
  {
   "cell_type": "code",
   "execution_count": null,
   "metadata": {},
   "outputs": [],
   "source": []
  }
 ],
 "metadata": {
  "language_info": {
   "codemirror_mode": {
    "name": "ipython",
    "version": 3
   },
   "file_extension": ".py",
   "mimetype": "text/x-python",
   "name": "python",
   "nbconvert_exporter": "python",
   "pygments_lexer": "ipython3",
   "version": "3.9.6"
  }
 },
 "nbformat": 4,
 "nbformat_minor": 2
}
